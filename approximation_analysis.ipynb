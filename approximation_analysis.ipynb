{
 "cells": [
  {
   "cell_type": "code",
   "execution_count": 2,
   "metadata": {},
   "outputs": [],
   "source": [
    "%load_ext autoreload\n",
    "%autoreload 2"
   ]
  },
  {
   "cell_type": "code",
   "execution_count": 20,
   "metadata": {},
   "outputs": [],
   "source": [
    "import pandas as pd\n",
    "import seaborn as sns\n",
    "\n",
    "from data import Data\n",
    "from brutforce import Brutforce\n",
    "from visualizer import Visualizer\n",
    "from average_approximation import AverageApproximation\n",
    "from gurobi_reduced import GurobiSolverReduced"
   ]
  },
  {
   "cell_type": "code",
   "execution_count": 10,
   "metadata": {},
   "outputs": [],
   "source": [
    "import matplotlib.pyplot as plt\n",
    "\n",
    "def evaluate_solver_performance(data):\n",
    "    bruteforce = Brutforce(data)\n",
    "    sol_brute = bruteforce.solve()\n",
    "\n",
    "    bruteforce = AverageApproximation(data)\n",
    "    sol_average = bruteforce.solve()\n",
    "\n",
    "    return sol_brute[0] / sol_average[0]"
   ]
  },
  {
   "cell_type": "code",
   "execution_count": 25,
   "metadata": {},
   "outputs": [
    {
     "name": "stdout",
     "output_type": "stream",
     "text": [
      "0 20 4\n",
      "0 20 6\n",
      "0 20 8\n",
      "0 20 10\n",
      "1 20 4\n",
      "1 20 6\n",
      "1 20 8\n",
      "1 20 10\n",
      "2 20 4\n",
      "2 20 6\n",
      "2 20 8\n",
      "2 20 10\n",
      "3 20 4\n",
      "3 20 6\n",
      "3 20 8\n",
      "3 20 10\n",
      "4 20 4\n",
      "4 20 6\n",
      "4 20 8\n",
      "4 20 10\n",
      "5 20 4\n",
      "5 20 6\n",
      "5 20 8\n",
      "5 20 10\n",
      "6 20 4\n",
      "6 20 6\n",
      "6 20 8\n",
      "6 20 10\n",
      "7 20 4\n",
      "7 20 6\n",
      "7 20 8\n",
      "7 20 10\n",
      "8 20 4\n",
      "8 20 6\n",
      "8 20 8\n",
      "8 20 10\n",
      "9 20 4\n",
      "9 20 6\n",
      "9 20 8\n",
      "9 20 10\n"
     ]
    }
   ],
   "source": [
    "results = {}\n",
    "repeats = 10\n",
    "timesteps = [20]\n",
    "teams = [4, 6, 8, 10]\n",
    "\n",
    "for repeat in range(repeats):\n",
    "        for T in timesteps:\n",
    "            for team in teams:\n",
    "                print(repeat, T, team)\n",
    "\n",
    "                data = Data(T=T, num_bells=5, num_teams=team, seed=repeat)\n",
    "\n",
    "                results[(repeat, T, team)] = evaluate_solver_performance(data)\n"
   ]
  },
  {
   "cell_type": "code",
   "execution_count": 26,
   "metadata": {},
   "outputs": [],
   "source": [
    "df = pd.DataFrame(\n",
    "        [\n",
    "            [*keys] + [result]\n",
    "            for keys, result in results.items()\n",
    "        ],\n",
    "        columns=[\"repeat\", \"T\", \"teams\", \"ratio\"],\n",
    "    )"
   ]
  },
  {
   "cell_type": "code",
   "execution_count": 27,
   "metadata": {},
   "outputs": [
    {
     "data": {
      "text/html": [
       "<div>\n",
       "<style scoped>\n",
       "    .dataframe tbody tr th:only-of-type {\n",
       "        vertical-align: middle;\n",
       "    }\n",
       "\n",
       "    .dataframe tbody tr th {\n",
       "        vertical-align: top;\n",
       "    }\n",
       "\n",
       "    .dataframe thead th {\n",
       "        text-align: right;\n",
       "    }\n",
       "</style>\n",
       "<table border=\"1\" class=\"dataframe\">\n",
       "  <thead>\n",
       "    <tr style=\"text-align: right;\">\n",
       "      <th></th>\n",
       "      <th>repeat</th>\n",
       "      <th>T</th>\n",
       "      <th>teams</th>\n",
       "      <th>ratio</th>\n",
       "    </tr>\n",
       "  </thead>\n",
       "  <tbody>\n",
       "    <tr>\n",
       "      <th>0</th>\n",
       "      <td>0</td>\n",
       "      <td>20</td>\n",
       "      <td>4</td>\n",
       "      <td>1.136364</td>\n",
       "    </tr>\n",
       "    <tr>\n",
       "      <th>1</th>\n",
       "      <td>0</td>\n",
       "      <td>20</td>\n",
       "      <td>6</td>\n",
       "      <td>1.110000</td>\n",
       "    </tr>\n",
       "    <tr>\n",
       "      <th>2</th>\n",
       "      <td>0</td>\n",
       "      <td>20</td>\n",
       "      <td>8</td>\n",
       "      <td>1.112782</td>\n",
       "    </tr>\n",
       "    <tr>\n",
       "      <th>3</th>\n",
       "      <td>0</td>\n",
       "      <td>20</td>\n",
       "      <td>10</td>\n",
       "      <td>1.095808</td>\n",
       "    </tr>\n",
       "    <tr>\n",
       "      <th>4</th>\n",
       "      <td>1</td>\n",
       "      <td>20</td>\n",
       "      <td>4</td>\n",
       "      <td>1.041096</td>\n",
       "    </tr>\n",
       "    <tr>\n",
       "      <th>5</th>\n",
       "      <td>1</td>\n",
       "      <td>20</td>\n",
       "      <td>6</td>\n",
       "      <td>1.027778</td>\n",
       "    </tr>\n",
       "    <tr>\n",
       "      <th>6</th>\n",
       "      <td>1</td>\n",
       "      <td>20</td>\n",
       "      <td>8</td>\n",
       "      <td>1.042553</td>\n",
       "    </tr>\n",
       "    <tr>\n",
       "      <th>7</th>\n",
       "      <td>1</td>\n",
       "      <td>20</td>\n",
       "      <td>10</td>\n",
       "      <td>1.052023</td>\n",
       "    </tr>\n",
       "    <tr>\n",
       "      <th>8</th>\n",
       "      <td>2</td>\n",
       "      <td>20</td>\n",
       "      <td>4</td>\n",
       "      <td>1.171875</td>\n",
       "    </tr>\n",
       "    <tr>\n",
       "      <th>9</th>\n",
       "      <td>2</td>\n",
       "      <td>20</td>\n",
       "      <td>6</td>\n",
       "      <td>1.118812</td>\n",
       "    </tr>\n",
       "  </tbody>\n",
       "</table>\n",
       "</div>"
      ],
      "text/plain": [
       "   repeat   T  teams     ratio\n",
       "0       0  20      4  1.136364\n",
       "1       0  20      6  1.110000\n",
       "2       0  20      8  1.112782\n",
       "3       0  20     10  1.095808\n",
       "4       1  20      4  1.041096\n",
       "5       1  20      6  1.027778\n",
       "6       1  20      8  1.042553\n",
       "7       1  20     10  1.052023\n",
       "8       2  20      4  1.171875\n",
       "9       2  20      6  1.118812"
      ]
     },
     "execution_count": 27,
     "metadata": {},
     "output_type": "execute_result"
    }
   ],
   "source": [
    "df[:10]"
   ]
  },
  {
   "cell_type": "code",
   "execution_count": 29,
   "metadata": {},
   "outputs": [
    {
     "data": {
      "text/plain": [
       "<Axes: xlabel='teams', ylabel='ratio'>"
      ]
     },
     "execution_count": 29,
     "metadata": {},
     "output_type": "execute_result"
    },
    {
     "data": {
      "image/png": "[encoded data removed]",
      "text/plain": [
       "<Figure size 640x480 with 1 Axes>"
      ]
     },
     "metadata": {},
     "output_type": "display_data"
    }
   ],
   "source": [
    "sns.boxplot(df, x=\"teams\", y=\"ratio\")"
   ]
  }
 ],
 "metadata": {
  "kernelspec": {
   "display_name": "qgrid",
   "language": "python",
   "name": "python3"
  },
  "language_info": {
   "codemirror_mode": {
    "name": "ipython",
    "version": 3
   },
   "file_extension": ".py",
   "mimetype": "text/x-python",
   "name": "python",
   "nbconvert_exporter": "python",
   "pygments_lexer": "ipython3",
   "version": "3.10.13"
  }
 },
 "nbformat": 4,
 "nbformat_minor": 2
}
