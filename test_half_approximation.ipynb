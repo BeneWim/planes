{
 "cells": [
  {
   "cell_type": "code",
   "execution_count": 1,
   "metadata": {},
   "outputs": [],
   "source": [
    "%load_ext autoreload\n",
    "%autoreload 2"
   ]
  },
  {
   "cell_type": "code",
   "execution_count": 2,
   "metadata": {},
   "outputs": [],
   "source": [
    "from data import Data\n",
    "from brutforce import Brutforce\n",
    "from visualizer import Visualizer\n",
    "from average_approximation import AverageApproximation\n",
    "from approximation import Approximation\n",
    "from half_approximation import HalfApproximation"
   ]
  },
  {
   "cell_type": "code",
   "execution_count": 3,
   "metadata": {},
   "outputs": [
    {
     "name": "stdout",
     "output_type": "stream",
     "text": [
      "[5, 4, 4, 2]\n",
      "[1, 1, 3, 1]\n",
      "[4, 1, 2, 3]\n",
      "[3, 3, 2, 4]\n",
      "[5, 4, 6]\n",
      "[5, 4, 2, 4]\n",
      "[15, 6, 10, 12, 15, 15]\n"
     ]
    }
   ],
   "source": [
    "num_bells = 3\n",
    "num_teams = 6\n",
    "T = 15\n",
    "data = Data(T=T, num_bells=num_bells, num_teams=num_teams, seed=8, team_limit=5)\n",
    "\n",
    "# print(data.plane_services)\n",
    "for line in data.plane_services:\n",
    "    print([int(x) for x in line])\n",
    "\n",
    "print([sum(line) for line in data.plane_services])"
   ]
  },
  {
   "cell_type": "code",
   "execution_count": 40,
   "metadata": {},
   "outputs": [
    {
     "name": "stdout",
     "output_type": "stream",
     "text": [
      "59.0\n",
      "[[1. 1. 1. 1. 1. 0. 0. 1. 1. 1. 1. 0. 1. 1. 1.]\n",
      " [1. 0. 0. 0. 0. 0. 0. 1. 1. 1. 1. 0. 1. 0. 0.]\n",
      " [1. 1. 1. 1. 0. 0. 0. 1. 1. 1. 0. 0. 1. 1. 1.]\n",
      " [1. 1. 1. 0. 0. 0. 0. 1. 1. 1. 0. 0. 1. 1. 0.]\n",
      " [1. 1. 1. 1. 1. 0. 0. 1. 1. 1. 1. 0. 1. 1. 1.]\n",
      " [1. 1. 1. 1. 1. 0. 0. 1. 1. 1. 1. 0. 1. 1. 0.]]\n",
      "[7, 8, 12]\n"
     ]
    }
   ],
   "source": [
    "bruteforce = HalfApproximation(data)\n",
    "sol = bruteforce.solve()\n",
    "\n",
    "print(sol[0])\n",
    "print(sol[1])\n",
    "print(sol[2])"
   ]
  },
  {
   "cell_type": "code",
   "execution_count": 45,
   "metadata": {},
   "outputs": [
    {
     "data": {
      "text/plain": [
       "0.6388888888888888"
      ]
     },
     "execution_count": 45,
     "metadata": {},
     "output_type": "execute_result"
    }
   ],
   "source": [
    "import numpy as np\n",
    "\n",
    "bell = 6\n",
    "np.sum(sol[1][:, 0:bell]) / ((bell) * data.num_teams)"
   ]
  },
  {
   "cell_type": "code",
   "execution_count": 48,
   "metadata": {},
   "outputs": [
    {
     "data": {
      "text/plain": [
       "0.5476190476190477"
      ]
     },
     "execution_count": 48,
     "metadata": {},
     "output_type": "execute_result"
    }
   ],
   "source": [
    "(6 * 6 - 13) / (7 * 6)"
   ]
  }
 ],
 "metadata": {
  "kernelspec": {
   "display_name": "qgrid",
   "language": "python",
   "name": "python3"
  },
  "language_info": {
   "codemirror_mode": {
    "name": "ipython",
    "version": 3
   },
   "file_extension": ".py",
   "mimetype": "text/x-python",
   "name": "python",
   "nbconvert_exporter": "python",
   "pygments_lexer": "ipython3",
   "version": "3.10.13"
  }
 },
 "nbformat": 4,
 "nbformat_minor": 2
}
